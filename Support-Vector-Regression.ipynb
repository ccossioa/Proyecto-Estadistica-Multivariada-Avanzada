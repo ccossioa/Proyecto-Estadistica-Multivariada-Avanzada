{
 "cells": [
  {
   "cell_type": "markdown",
   "metadata": {},
   "source": [
    "# IMPLEMENTACIÓN  SUPPORT VECTOR REGRESSION"
   ]
  },
  {
   "cell_type": "markdown",
   "metadata": {},
   "source": [
    "En este notebook se encuentra la implementación del algoritmo Support Vector Regeresion con el objetivo de estimar el precio de vehículos usados a partir de ciertas características."
   ]
  },
  {
   "cell_type": "markdown",
   "metadata": {},
   "source": [
    "### Importamos librerias necesarias"
   ]
  },
  {
   "cell_type": "code",
   "execution_count": 29,
   "metadata": {},
   "outputs": [],
   "source": [
    "import pandas as pd\n",
    "import numpy as np\n",
    "import matplotlib.pyplot as plt\n",
    "import seaborn as sns\n",
    "import math \n",
    "from sklearn.svm import SVR\n",
    "from sklearn.svm import LinearSVR\n",
    "import matplotlib.pyplot as plt"
   ]
  },
  {
   "cell_type": "markdown",
   "metadata": {},
   "source": [
    "### Leemos los datos y los convertimos a un numpy array para poder utilizar la libreria de Sklearn"
   ]
  },
  {
   "cell_type": "code",
   "execution_count": 11,
   "metadata": {},
   "outputs": [],
   "source": [
    "#Leer datos\n",
    "X_train = pd.read_excel(\"X_train.xlsx\")\n",
    "X_train = X_train.iloc[: , 1:]\n",
    "\n",
    "Y_train=pd.read_excel(\"y_train.xlsx\")\n",
    "Y_train = Y_train.iloc[: , 1:]\n",
    "\n",
    "X_test = pd.read_excel(\"X_test.xlsx\")\n",
    "X_test = X_test.iloc[: , 1:]\n",
    "\n",
    "Y_test = pd.read_excel(\"y_test.xlsx\")\n",
    "Y_test = Y_test.iloc[: , 1:]"
   ]
  },
  {
   "cell_type": "code",
   "execution_count": 12,
   "metadata": {},
   "outputs": [],
   "source": [
    "#convertirnos los datos de train a un arreglo de numpy \n",
    "X_train=X_train.to_numpy().reshape(-1,40)\n",
    "Y_train=Y_train.to_numpy().reshape(1,-1)\n",
    "Y_train=Y_train[0]"
   ]
  },
  {
   "cell_type": "code",
   "execution_count": 13,
   "metadata": {},
   "outputs": [],
   "source": [
    "#convertirnos los datos de test a un arreglo de numpy \n",
    "X_test=X_test.to_numpy().reshape(-1,40)\n",
    "Y_test=Y_test.to_numpy().reshape(1,-1)\n",
    "Y_test=Y_test[0]"
   ]
  },
  {
   "cell_type": "markdown",
   "metadata": {},
   "source": [
    "### A continuación se implementan funciones para calcular el R2, RMSE y el MAPE  "
   ]
  },
  {
   "cell_type": "code",
   "execution_count": 20,
   "metadata": {},
   "outputs": [],
   "source": [
    "#se calcula el r2 dado un conjunto de datos reales y sus respectivas predicciones\n",
    "def calculateR2(real,pred):\n",
    "    mu=np.mean(real)\n",
    "    numerator=np.sum(np.square(np.subtract(real,pred)))\n",
    "    denominator=np.sum(np.square(np.subtract(real,mu)))\n",
    "    R2=1-np.divide(numerator,denominator)\n",
    "    return R2"
   ]
  },
  {
   "cell_type": "code",
   "execution_count": 22,
   "metadata": {},
   "outputs": [],
   "source": [
    "#se calcula el RMSE dado un conjunto de datos reales y sus respectivas predicciones\n",
    "def calculateRMSE(real,pred):\n",
    "    N=pred.size\n",
    "    RMSE=math.sqrt(np.square(np.subtract(real,pred)).mean())\n",
    "    return RMSE"
   ]
  },
  {
   "cell_type": "code",
   "execution_count": 23,
   "metadata": {},
   "outputs": [],
   "source": [
    "#se calcula el MAPE dado un conjunto de datos reales y sus respectivas predicciones\n",
    "def calculateMAPE(real,pred):\n",
    "    N=pred.size\n",
    "    MAPE = np.mean(np.abs((real - pred)/real))*100\n",
    "    return MAPE"
   ]
  },
  {
   "cell_type": "code",
   "execution_count": 24,
   "metadata": {},
   "outputs": [],
   "source": [
    "#se llaman las funciones para calcular todas las metricas tanto en train como en test\n",
    "def SVRGetMetrics(Y_pred_train,Y_pred_test):\n",
    "    #conjunto train\n",
    "    R2train=calculateR2(Y_train,Y_pred_train)\n",
    "    RMSEtrain=calculateRMSE(Y_train,Y_pred_train)\n",
    "    MAPEtrain=calculateMAPE(Y_train,Y_pred_train)\n",
    "    print('El R2 en train es: ',R2train)\n",
    "    print('El RMSE en train es: ',RMSEtrain)\n",
    "    print('El MAPE en train es: ' ,MAPEtrain)\n",
    "    #conjunto test\n",
    "    R2test=calculateR2(Y_test,Y_pred_test)\n",
    "    RMSEtest=calculateRMSE(Y_test,Y_pred_test)\n",
    "    MAPEtest=calculateMAPE(Y_test,Y_pred_test)\n",
    "    print('El R2 en test es: ',R2test)\n",
    "    print('El RMSE en test es: ',RMSEtest)\n",
    "    print('El MAPE en test es: ',MAPEtest)\n",
    "    return [R2train,RMSEtrain,MAPEtrain,R2test,RMSEtest,MAPEtest]"
   ]
  },
  {
   "cell_type": "markdown",
   "metadata": {},
   "source": [
    "### A continuación se entrenaran varios modelos utilizando el algoritmo de  support vector regression  y se hallara el $R^2$, RMSE Y MAPE para el conjunto test y train de cada modelo entrenado"
   ]
  },
  {
   "cell_type": "markdown",
   "metadata": {},
   "source": [
    "### Modelo 1: kernel=rbf"
   ]
  },
  {
   "cell_type": "code",
   "execution_count": 25,
   "metadata": {},
   "outputs": [
    {
     "name": "stdout",
     "output_type": "stream",
     "text": [
      "El R2 en train es:  -0.05575156034086204\n",
      "El RMSE en train es:  38648145.850834936\n",
      "El MAPE en train es:  50.166132875997114\n",
      "El R2 en test es:  -0.044096981175094196\n",
      "El RMSE en test es:  37906237.1319062\n",
      "El MAPE en test es:  53.405777773707065\n"
     ]
    },
    {
     "data": {
      "text/plain": [
       "[-0.05575156034086204,\n",
       " 38648145.850834936,\n",
       " 50.166132875997114,\n",
       " -0.044096981175094196,\n",
       " 37906237.1319062,\n",
       " 53.405777773707065]"
      ]
     },
     "execution_count": 25,
     "metadata": {},
     "output_type": "execute_result"
    }
   ],
   "source": [
    "svr_rbf = SVR(kernel = 'rbf')\n",
    "svr_rbf.fit(X_train, Y_train)\n",
    "Y_pred_train = svr_rbf.predict(X_train)\n",
    "Y_pred_test = svr_rbf.predict(X_test)\n",
    "SVRGetMetrics(Y_pred_train,Y_pred_test)"
   ]
  },
  {
   "cell_type": "markdown",
   "metadata": {},
   "source": [
    "### Modelo 2: kernel=sigmoid"
   ]
  },
  {
   "cell_type": "code",
   "execution_count": 88,
   "metadata": {},
   "outputs": [
    {
     "name": "stdout",
     "output_type": "stream",
     "text": [
      "El R2 en train es:  -0.0557549244554445\n",
      "El RMSE en train es:  38648207.42625303\n",
      "El MAPE en train es:  50.16630614823655\n",
      "El R2 en test es:  -0.04410025630652048\n",
      "El RMSE en test es:  37906296.5841474\n",
      "El MAPE en test es:  53.40596355904058\n"
     ]
    },
    {
     "data": {
      "text/plain": [
       "[-0.0557549244554445,\n",
       " 38648207.42625303,\n",
       " 50.16630614823655,\n",
       " -0.04410025630652048,\n",
       " 37906296.5841474,\n",
       " 53.40596355904058]"
      ]
     },
     "execution_count": 88,
     "metadata": {},
     "output_type": "execute_result"
    }
   ],
   "source": [
    "svr_sigmoid = SVR(kernel = 'sigmoid')\n",
    "svr_sigmoid.fit(X_train, Y_train)\n",
    "Y_pred_train = svr_sigmoid.predict(X_train)\n",
    "Y_pred_test = svr_sigmoid.predict(X_test)\n",
    "SVRGetMetrics(Y_pred_train,Y_pred_test)"
   ]
  },
  {
   "cell_type": "markdown",
   "metadata": {},
   "source": [
    "### Modelo 3:  kernel=linear"
   ]
  },
  {
   "cell_type": "code",
   "execution_count": 75,
   "metadata": {},
   "outputs": [
    {
     "name": "stdout",
     "output_type": "stream",
     "text": [
      "El R2 en train es:  0.33131064066269766\n",
      "El RMSE en train es:  30758135.348121263\n",
      "El MAPE en train es:  35.932992034671024\n",
      "El R2 en test es:  0.3394194511666615\n",
      "El RMSE en test es:  30151098.9400618\n",
      "El MAPE en test es:  36.32004730104168\n"
     ]
    }
   ],
   "source": [
    "svr_lin = SVR(kernel=\"linear\")\n",
    "svr_lin.fit(X_train, Y_train)\n",
    "Y_pred_train = svr_lin.predict(X_train)\n",
    "Y_pred_test = svr_lin.predict(X_test)\n",
    "SVRGetMetrics(Y_pred_train,Y_pred_test)"
   ]
  },
  {
   "cell_type": "markdown",
   "metadata": {},
   "source": [
    "### Modelos:  kernel=polinomico y variación en el grado del polonomio"
   ]
  },
  {
   "cell_type": "markdown",
   "metadata": {},
   "source": [
    "#### Ahora se dejará fijo el Kernel polinómico y se va a variar el grado del polinomio para ver los resultados obtenidos para cada modelo entrenado y analizar como el grado del polinomio afecta los resultados"
   ]
  },
  {
   "cell_type": "code",
   "execution_count": 26,
   "metadata": {},
   "outputs": [
    {
     "name": "stdout",
     "output_type": "stream",
     "text": [
      "El R2 en train es:  -0.05572115713615289\n",
      "El RMSE en train es:  38647589.35819324\n",
      "El MAPE en train es:  50.16332354851851\n",
      "El R2 en test es:  -0.044065385615587704\n",
      "El RMSE en test es:  37905663.58469104\n",
      "El MAPE en test es:  53.40252089196411\n",
      "3\n",
      "El R2 en train es:  -0.055631937006645815\n",
      "El RMSE en train es:  38645956.24903415\n",
      "El MAPE en train es:  50.15180457080578\n",
      "El R2 en test es:  -0.04396085506999503\n",
      "El RMSE en test es:  37903766.00292544\n",
      "El MAPE en test es:  53.388351522325515\n",
      "4\n",
      "El R2 en train es:  -0.055869709021595826\n",
      "El RMSE en train es:  38650308.3386174\n",
      "El MAPE en train es:  50.13950243707884\n",
      "El R2 en test es:  -0.04391476843070441\n",
      "El RMSE en test es:  37902929.34489241\n",
      "El MAPE en test es:  53.3692387654997\n",
      "5\n",
      "El R2 en train es:  -0.05575693423976902\n",
      "El RMSE en train es:  38648244.21250081\n",
      "El MAPE en train es:  50.166357781315064\n",
      "El R2 en test es:  -0.04410761162794685\n",
      "El RMSE en test es:  37906430.10221846\n",
      "El MAPE en test es:  53.40632970547047\n",
      "6\n",
      "El R2 en train es:  -0.055754893260091976\n",
      "El RMSE en train es:  38648206.85526613\n",
      "El MAPE en train es:  50.16172260117949\n",
      "El R2 en test es:  -0.044081465674444376\n",
      "El RMSE en test es:  37905955.483533286\n",
      "El MAPE en test es:  53.40155618138\n",
      "7\n"
     ]
    },
    {
     "name": "stderr",
     "output_type": "stream",
     "text": [
      "/Users/susanaalvarez/opt/anaconda3/lib/python3.8/site-packages/sklearn/svm/_base.py:255: ConvergenceWarning: Solver terminated early (max_iter=1000000000).  Consider pre-processing your data with StandardScaler or MinMaxScaler.\n",
      "  warnings.warn('Solver terminated early (max_iter=%i).'\n"
     ]
    },
    {
     "name": "stdout",
     "output_type": "stream",
     "text": [
      "El R2 en train es:  -2.8154518629864462\n",
      "El RMSE en train es:  73471818.09624828\n",
      "El MAPE en train es:  82.91953112591374\n",
      "El R2 en test es:  -2.7959276739973205\n",
      "El RMSE en test es:  72276850.47690678\n",
      "El MAPE en test es:  82.80742683610355\n",
      "8\n"
     ]
    },
    {
     "name": "stderr",
     "output_type": "stream",
     "text": [
      "/Users/susanaalvarez/opt/anaconda3/lib/python3.8/site-packages/sklearn/svm/_base.py:255: ConvergenceWarning: Solver terminated early (max_iter=1000000000).  Consider pre-processing your data with StandardScaler or MinMaxScaler.\n",
      "  warnings.warn('Solver terminated early (max_iter=%i).'\n"
     ]
    },
    {
     "name": "stdout",
     "output_type": "stream",
     "text": [
      "El R2 en train es:  -0.054205767183359566\n",
      "El RMSE en train es:  38619841.879660614\n",
      "El MAPE en train es:  50.313392959706704\n",
      "El R2 en test es:  -0.0421078294015611\n",
      "El RMSE en test es:  37870111.557877675\n",
      "El MAPE en test es:  53.548017939706774\n",
      "9\n"
     ]
    },
    {
     "name": "stderr",
     "output_type": "stream",
     "text": [
      "/Users/susanaalvarez/opt/anaconda3/lib/python3.8/site-packages/sklearn/svm/_base.py:255: ConvergenceWarning: Solver terminated early (max_iter=1000000000).  Consider pre-processing your data with StandardScaler or MinMaxScaler.\n",
      "  warnings.warn('Solver terminated early (max_iter=%i).'\n"
     ]
    },
    {
     "name": "stdout",
     "output_type": "stream",
     "text": [
      "El R2 en train es:  -9.127033551835027\n",
      "El RMSE en train es:  119698558.92182033\n",
      "El MAPE en train es:  44.97408324067879\n",
      "El R2 en test es:  -0.49859655028118044\n",
      "El RMSE en test es:  45413253.76845262\n",
      "El MAPE en test es:  44.31554709607398\n",
      "10\n"
     ]
    },
    {
     "name": "stderr",
     "output_type": "stream",
     "text": [
      "/Users/susanaalvarez/opt/anaconda3/lib/python3.8/site-packages/sklearn/svm/_base.py:255: ConvergenceWarning: Solver terminated early (max_iter=1000000000).  Consider pre-processing your data with StandardScaler or MinMaxScaler.\n",
      "  warnings.warn('Solver terminated early (max_iter=%i).'\n"
     ]
    },
    {
     "name": "stdout",
     "output_type": "stream",
     "text": [
      "El R2 en train es:  -2.8162977211678317\n",
      "El RMSE en train es:  73479961.73122\n",
      "El MAPE en train es:  44.556002014867715\n",
      "El R2 en test es:  -0.40119716303684383\n",
      "El RMSE en test es:  43912673.6049403\n",
      "El MAPE en test es:  44.817912527899374\n",
      "11\n"
     ]
    },
    {
     "name": "stderr",
     "output_type": "stream",
     "text": [
      "/Users/susanaalvarez/opt/anaconda3/lib/python3.8/site-packages/sklearn/svm/_base.py:255: ConvergenceWarning: Solver terminated early (max_iter=1000000000).  Consider pre-processing your data with StandardScaler or MinMaxScaler.\n",
      "  warnings.warn('Solver terminated early (max_iter=%i).'\n"
     ]
    },
    {
     "name": "stdout",
     "output_type": "stream",
     "text": [
      "El R2 en train es:  -32489115453.631416\n",
      "El RMSE en train es:  6779797791658.73\n",
      "El MAPE en train es:  11932838.0044214\n",
      "El R2 en test es:  -29907783839.134968\n",
      "El RMSE en test es:  6415527510633.508\n",
      "El MAPE en test es:  12284157.409271691\n",
      "12\n"
     ]
    }
   ],
   "source": [
    "degree=2\n",
    "allMetrics=[]\n",
    "degrees=[]\n",
    "while degree<=11:\n",
    "    degrees.append(degree)\n",
    "    svr_poly = SVR(kernel = 'poly',degree=degree,max_iter=1000000000)\n",
    "    svr_poly.fit(X_train, Y_train)\n",
    "    Y_pred_train = svr_poly.predict(X_train)\n",
    "    Y_pred_test = svr_poly.predict(X_test)\n",
    "    metrics=SVRGetMetrics(Y_pred_train,Y_pred_test)\n",
    "    allMetrics.append(metrics)\n",
    "    degree=degree+1\n",
    "    print(degree)"
   ]
  },
  {
   "cell_type": "code",
   "execution_count": 62,
   "metadata": {},
   "outputs": [
    {
     "data": {
      "image/png": "[encoded data removed]",
      "text/plain": [
       "<Figure size 432x288 with 1 Axes>"
      ]
     },
     "metadata": {
      "needs_background": "light"
     },
     "output_type": "display_data"
    }
   ],
   "source": [
    "#graficar los resultados del MAPE obteindo en train con cada modelo entrenado\n",
    "MAPES=map(lambda metrics:metrics[2], allMetrics)\n",
    "MAPES=list(MAPES)\n",
    "plt.plot(degrees[0:-2],MAPES[0:-2])\n",
    "plt.xlabel('Grado Polinomio')\n",
    "plt.ylabel('MAPE (%)')\n",
    "plt.title('MAPE obtenido con Kernel polinomial de diferentes grados')\n",
    "plt.show()"
   ]
  },
  {
   "cell_type": "markdown",
   "metadata": {},
   "source": [
    "#### Ahora se dejará fijo el Kernel polinómico y se va a variar el grado del polinomio para ver los resultados obtenidos para cada modelo entrenado y analizar como el grado del polinomio afecta los resultados"
   ]
  },
  {
   "cell_type": "markdown",
   "metadata": {},
   "source": [
    "### Modelos:  kernel=lineal y variación en hiper parametro c"
   ]
  },
  {
   "cell_type": "markdown",
   "metadata": {},
   "source": [
    "#### Ahora se dejara fijo el Kernel lineal y se va a variar el hiper parámetro C para ver esto como influye en los resultados presentados por el modelo "
   ]
  },
  {
   "cell_type": "code",
   "execution_count": 28,
   "metadata": {},
   "outputs": [
    {
     "name": "stdout",
     "output_type": "stream",
     "text": [
      "El R2 en train es:  0.33154618415636905\n",
      "El RMSE en train es:  30752717.64805939\n",
      "El MAPE en train es:  35.67505713357341\n",
      "El R2 en test es:  0.3381383243685375\n",
      "El RMSE en test es:  30180322.227526225\n",
      "El MAPE en test es:  36.240926755422656\n",
      "1.0\n",
      "El R2 en train es:  0.33131064066269766\n",
      "El RMSE en train es:  30758135.348121263\n",
      "El MAPE en train es:  35.932992034671024\n",
      "El R2 en test es:  0.3394194511666615\n",
      "El RMSE en test es:  30151098.9400618\n",
      "El MAPE en test es:  36.32004730104168\n",
      "10.0\n"
     ]
    },
    {
     "name": "stderr",
     "output_type": "stream",
     "text": [
      "/Users/susanaalvarez/opt/anaconda3/lib/python3.8/site-packages/sklearn/svm/_base.py:255: ConvergenceWarning: Solver terminated early (max_iter=1000000000).  Consider pre-processing your data with StandardScaler or MinMaxScaler.\n",
      "  warnings.warn('Solver terminated early (max_iter=%i).'\n"
     ]
    },
    {
     "name": "stdout",
     "output_type": "stream",
     "text": [
      "El R2 en train es:  0.330819890970357\n",
      "El RMSE en train es:  30769419.942978688\n",
      "El MAPE en train es:  35.24823210134018\n",
      "El R2 en test es:  0.3403498300990645\n",
      "El RMSE en test es:  30129858.66018361\n",
      "El MAPE en test es:  35.56011248203548\n",
      "100.0\n"
     ]
    },
    {
     "name": "stderr",
     "output_type": "stream",
     "text": [
      "/Users/susanaalvarez/opt/anaconda3/lib/python3.8/site-packages/sklearn/svm/_base.py:255: ConvergenceWarning: Solver terminated early (max_iter=1000000000).  Consider pre-processing your data with StandardScaler or MinMaxScaler.\n",
      "  warnings.warn('Solver terminated early (max_iter=%i).'\n"
     ]
    },
    {
     "name": "stdout",
     "output_type": "stream",
     "text": [
      "El R2 en train es:  0.2978918775518886\n",
      "El RMSE en train es:  31517357.366058573\n",
      "El MAPE en train es:  31.92317489892451\n",
      "El R2 en test es:  0.31037253406057486\n",
      "El RMSE en test es:  30806866.74395647\n",
      "El MAPE en test es:  32.13367965000779\n",
      "1000.0\n"
     ]
    },
    {
     "name": "stderr",
     "output_type": "stream",
     "text": [
      "/Users/susanaalvarez/opt/anaconda3/lib/python3.8/site-packages/sklearn/svm/_base.py:255: ConvergenceWarning: Solver terminated early (max_iter=1000000000).  Consider pre-processing your data with StandardScaler or MinMaxScaler.\n",
      "  warnings.warn('Solver terminated early (max_iter=%i).'\n"
     ]
    },
    {
     "name": "stdout",
     "output_type": "stream",
     "text": [
      "El R2 en train es:  0.3868536289655927\n",
      "El RMSE en train es:  29453023.136083573\n",
      "El MAPE en train es:  35.578085958955306\n",
      "El R2 en test es:  0.3688887956269048\n",
      "El RMSE en test es:  29470886.53024777\n",
      "El MAPE en test es:  36.654076509067934\n",
      "10000.0\n"
     ]
    }
   ],
   "source": [
    "C=0.1\n",
    "allMetricsLinear=[]\n",
    "degrees=[]\n",
    "cValues=[]\n",
    "while C<=1000:\n",
    "    cValues.append(C)\n",
    "    svr_lin = SVR(kernel = 'linear',C=C,max_iter=1000000000)\n",
    "    svr_lin.fit(X_train, Y_train)\n",
    "    Y_pred_train = svr_lin.predict(X_train)\n",
    "    Y_pred_test = svr_lin.predict(X_test)\n",
    "    metrics=SVRGetMetrics(Y_pred_train,Y_pred_test)\n",
    "    allMetricsLinear.append(metrics)\n",
    "    C=C*10\n",
    "    print(C)"
   ]
  },
  {
   "cell_type": "code",
   "execution_count": 30,
   "metadata": {},
   "outputs": [
    {
     "data": {
      "image/png": "[encoded data removed]",
      "text/plain": [
       "<Figure size 432x288 with 1 Axes>"
      ]
     },
     "metadata": {
      "needs_background": "light"
     },
     "output_type": "display_data"
    }
   ],
   "source": [
    "#graficar los resultados del MAPE en train obtenido con cada modelo \n",
    "MAPESLinear=map(lambda metrics:metrics[2], allMetricsLinear)\n",
    "MAPESLinear=list(MAPESLinear)\n",
    "plt.plot(cValues,MAPESLinear)\n",
    "plt.xlabel('Valor C')\n",
    "plt.ylabel('MAPE (%)')\n",
    "plt.title('MAPE obtenido con Kernel lineal con diferentes valores de C')\n",
    "plt.show()"
   ]
  },
  {
   "cell_type": "markdown",
   "metadata": {},
   "source": [
    "### Modelos:  kernel=lineal, C=100 y variación en hiper parametro $\\epsilon$"
   ]
  },
  {
   "cell_type": "markdown",
   "metadata": {},
   "source": [
    "#### Ahora se dejara fijo el Kernel lineal y C=100 y se va a variar el hiper parámetro $\\epsilon$ para ver esto como influye en los resultados presentados por el modelo"
   ]
  },
  {
   "cell_type": "code",
   "execution_count": 31,
   "metadata": {
    "scrolled": true
   },
   "outputs": [
    {
     "name": "stderr",
     "output_type": "stream",
     "text": [
      "/Users/susanaalvarez/opt/anaconda3/lib/python3.8/site-packages/sklearn/svm/_base.py:255: ConvergenceWarning: Solver terminated early (max_iter=1000000000).  Consider pre-processing your data with StandardScaler or MinMaxScaler.\n",
      "  warnings.warn('Solver terminated early (max_iter=%i).'\n"
     ]
    },
    {
     "name": "stdout",
     "output_type": "stream",
     "text": [
      "El R2 en train es:  0.18464055872266416\n",
      "El RMSE en train es:  33964275.081776\n",
      "El MAPE en train es:  33.088653016287665\n",
      "El R2 en test es:  0.20367447579872666\n",
      "El RMSE en test es:  33104388.736159828\n",
      "El MAPE en test es:  32.801980164838824\n",
      "0.1\n"
     ]
    },
    {
     "name": "stderr",
     "output_type": "stream",
     "text": [
      "/Users/susanaalvarez/opt/anaconda3/lib/python3.8/site-packages/sklearn/svm/_base.py:255: ConvergenceWarning: Solver terminated early (max_iter=1000000000).  Consider pre-processing your data with StandardScaler or MinMaxScaler.\n",
      "  warnings.warn('Solver terminated early (max_iter=%i).'\n"
     ]
    },
    {
     "name": "stdout",
     "output_type": "stream",
     "text": [
      "El R2 en train es:  0.2978918775518886\n",
      "El RMSE en train es:  31517357.366058573\n",
      "El MAPE en train es:  31.92317489892451\n",
      "El R2 en test es:  0.31037253406057486\n",
      "El RMSE en test es:  30806866.74395647\n",
      "El MAPE en test es:  32.13367965000779\n",
      "0.01\n"
     ]
    },
    {
     "name": "stderr",
     "output_type": "stream",
     "text": [
      "/Users/susanaalvarez/opt/anaconda3/lib/python3.8/site-packages/sklearn/svm/_base.py:255: ConvergenceWarning: Solver terminated early (max_iter=1000000000).  Consider pre-processing your data with StandardScaler or MinMaxScaler.\n",
      "  warnings.warn('Solver terminated early (max_iter=%i).'\n"
     ]
    },
    {
     "name": "stdout",
     "output_type": "stream",
     "text": [
      "El R2 en train es:  0.30369106207423224\n",
      "El RMSE en train es:  31386925.921553317\n",
      "El MAPE en train es:  32.132387079221104\n",
      "El R2 en test es:  0.3170105298657201\n",
      "El RMSE en test es:  30658242.785577066\n",
      "El MAPE en test es:  32.328996808309064\n",
      "0.001\n"
     ]
    },
    {
     "name": "stderr",
     "output_type": "stream",
     "text": [
      "/Users/susanaalvarez/opt/anaconda3/lib/python3.8/site-packages/sklearn/svm/_base.py:255: ConvergenceWarning: Solver terminated early (max_iter=1000000000).  Consider pre-processing your data with StandardScaler or MinMaxScaler.\n",
      "  warnings.warn('Solver terminated early (max_iter=%i).'\n"
     ]
    },
    {
     "name": "stdout",
     "output_type": "stream",
     "text": [
      "El R2 en train es:  0.29660523819762785\n",
      "El RMSE en train es:  31546222.515182097\n",
      "El MAPE en train es:  31.893181792679226\n",
      "El R2 en test es:  0.30887511374356824\n",
      "El RMSE en test es:  30840294.80192084\n",
      "El MAPE en test es:  32.09942176521614\n",
      "0.0001\n"
     ]
    },
    {
     "name": "stderr",
     "output_type": "stream",
     "text": [
      "/Users/susanaalvarez/opt/anaconda3/lib/python3.8/site-packages/sklearn/svm/_base.py:255: ConvergenceWarning: Solver terminated early (max_iter=1000000000).  Consider pre-processing your data with StandardScaler or MinMaxScaler.\n",
      "  warnings.warn('Solver terminated early (max_iter=%i).'\n"
     ]
    },
    {
     "name": "stdout",
     "output_type": "stream",
     "text": [
      "El R2 en train es:  0.305286052439501\n",
      "El RMSE en train es:  31350957.299753375\n",
      "El MAPE en train es:  31.913715877555966\n",
      "El R2 en test es:  0.31679090654511866\n",
      "El RMSE en test es:  30663171.64918009\n",
      "El MAPE en test es:  32.1746094636962\n",
      "1e-05\n"
     ]
    },
    {
     "name": "stderr",
     "output_type": "stream",
     "text": [
      "/Users/susanaalvarez/opt/anaconda3/lib/python3.8/site-packages/sklearn/svm/_base.py:255: ConvergenceWarning: Solver terminated early (max_iter=1000000000).  Consider pre-processing your data with StandardScaler or MinMaxScaler.\n",
      "  warnings.warn('Solver terminated early (max_iter=%i).'\n"
     ]
    },
    {
     "name": "stdout",
     "output_type": "stream",
     "text": [
      "El R2 en train es:  0.2998226424411531\n",
      "El RMSE en train es:  31473991.894171875\n",
      "El MAPE en train es:  31.85363451738005\n",
      "El R2 en test es:  0.31154932340757924\n",
      "El RMSE en test es:  30780570.900671158\n",
      "El MAPE en test es:  32.0925083896074\n",
      "1.0000000000000002e-06\n"
     ]
    },
    {
     "name": "stderr",
     "output_type": "stream",
     "text": [
      "/Users/susanaalvarez/opt/anaconda3/lib/python3.8/site-packages/sklearn/svm/_base.py:255: ConvergenceWarning: Solver terminated early (max_iter=1000000000).  Consider pre-processing your data with StandardScaler or MinMaxScaler.\n",
      "  warnings.warn('Solver terminated early (max_iter=%i).'\n"
     ]
    },
    {
     "name": "stdout",
     "output_type": "stream",
     "text": [
      "El R2 en train es:  0.3289128017519365\n",
      "El RMSE en train es:  30813233.46927056\n",
      "El MAPE en train es:  32.21525165923732\n",
      "El R2 en test es:  0.3393355262097124\n",
      "El RMSE en test es:  30153014.18667256\n",
      "El MAPE en test es:  32.57419555431421\n",
      "1.0000000000000002e-07\n"
     ]
    }
   ],
   "source": [
    "allMetricsLinear=[]\n",
    "degrees=[]\n",
    "epsilonValues=[]\n",
    "epsilon=1\n",
    "while epsilon>=0.000001:\n",
    "    epsilonValues.append(epsilon)\n",
    "    svr_lin = SVR(kernel = 'linear',C=100,epsilon=epsilon,max_iter=1000000000)\n",
    "    svr_lin.fit(X_train, Y_train)\n",
    "    Y_pred_train = svr_lin.predict(X_train)\n",
    "    Y_pred_test = svr_lin.predict(X_test)\n",
    "    metrics=SVRGetMetrics(Y_pred_train,Y_pred_test)\n",
    "    allMetricsLinear.append(metrics)\n",
    "    epsilon=epsilon/10\n",
    "    print(epsilon)"
   ]
  },
  {
   "cell_type": "code",
   "execution_count": 32,
   "metadata": {},
   "outputs": [
    {
     "data": {
      "image/png": "[encoded data removed]",
      "text/plain": [
       "<Figure size 432x288 with 1 Axes>"
      ]
     },
     "metadata": {
      "needs_background": "light"
     },
     "output_type": "display_data"
    }
   ],
   "source": [
    "#graficar los resultados del MAPE en train obtenido con cada modelo \n",
    "MAPESLinear=map(lambda metrics:metrics[2], allMetricsLinear)\n",
    "MAPESLinear=list(MAPESLinear)\n",
    "plt.plot(epsilonValues[1:-1],MAPESLinear[1:-1])\n",
    "plt.xlabel('Valor $\\epsilon$')\n",
    "plt.ylabel('MAPE (%)')\n",
    "plt.title('MAPE obtenido con Kernel lineal con diferentes valores de $\\epsilon$')\n",
    "plt.show()"
   ]
  },
  {
   "cell_type": "code",
   "execution_count": null,
   "metadata": {},
   "outputs": [],
   "source": []
  }
 ],
 "metadata": {
  "kernelspec": {
   "display_name": "Python 3",
   "language": "python",
   "name": "python3"
  },
  "language_info": {
   "codemirror_mode": {
    "name": "ipython",
    "version": 3
   },
   "file_extension": ".py",
   "mimetype": "text/x-python",
   "name": "python",
   "nbconvert_exporter": "python",
   "pygments_lexer": "ipython3",
   "version": "3.8.8"
  }
 },
 "nbformat": 4,
 "nbformat_minor": 4
}
