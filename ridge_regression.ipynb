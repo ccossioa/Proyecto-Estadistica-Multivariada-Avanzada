{
 "cells": [
  {
   "cell_type": "markdown",
   "id": "8b60c6ad",
   "metadata": {},
   "source": [
    "# Regresión Ridge"
   ]
  },
  {
   "cell_type": "markdown",
   "id": "4157bce5",
   "metadata": {},
   "source": [
    "En este notebook se encuentra la implementación del algoritmo de Regresion Ridge con el objetivo de estimar el precio de vehículos usados a partir de ciertas características."
   ]
  },
  {
   "cell_type": "markdown",
   "id": "17a724c0",
   "metadata": {},
   "source": [
    "### Primero importamos las librerias necesarias"
   ]
  },
  {
   "cell_type": "code",
   "execution_count": 1,
   "id": "4df77b4b",
   "metadata": {},
   "outputs": [],
   "source": [
    "import pandas as pd\n",
    "from sklearn.linear_model import Ridge\n",
    "import numpy as np\n",
    "from sklearn.metrics import mean_squared_error\n",
    "from sklearn.metrics import r2_score\n",
    "from sklearn.metrics import mean_absolute_percentage_error\n",
    "import matplotlib.pyplot as plt"
   ]
  },
  {
   "cell_type": "markdown",
   "id": "17223d0e",
   "metadata": {},
   "source": [
    "### Luego procedemos a leer los datos de train y test"
   ]
  },
  {
   "cell_type": "code",
   "execution_count": 2,
   "id": "5f74cee3",
   "metadata": {},
   "outputs": [],
   "source": [
    "# Leer los datos\n",
    "\n",
    "# Train data\n",
    "X_train = pd.read_excel(\"X_train.xlsx\")\n",
    "X_train = X_train.iloc[:,1:]\n",
    "\n",
    "y_train = pd.read_excel(\"y_train.xlsx\")\n",
    "y_train = y_train.iloc[:,1:]\n",
    "\n",
    "# Test data\n",
    "X_test = pd.read_excel(\"X_test.xlsx\")\n",
    "X_test = X_test.iloc[:,1:]\n",
    "\n",
    "y_test = pd.read_excel(\"y_test.xlsx\")\n",
    "y_test = y_test.iloc[:,1:]"
   ]
  },
  {
   "cell_type": "markdown",
   "id": "2534bb1a",
   "metadata": {},
   "source": [
    "Ahora, realizaremos una experimentación haciendo la regresión ridge para distintos valores de alpha para asi encontrar el alpha que hace que el error sea minimo."
   ]
  },
  {
   "cell_type": "markdown",
   "id": "f202edcb",
   "metadata": {},
   "source": [
    "Lo que se realizó fue comenzar con un $\\alpha=0$ e ir aumentandolo en 0.01 hasta llegar a 100. Luego se graficó el MAPE obtenido con cada $\\alpha$ para poder visualizar con cual de estos se obtuvo un menor error."
   ]
  },
  {
   "cell_type": "code",
   "execution_count": 3,
   "id": "9eaf7865",
   "metadata": {},
   "outputs": [],
   "source": [
    "# Inicialización\n",
    "mape = []\n",
    "rmse = []\n",
    "r2 = []\n",
    "alpha_list = []\n",
    "alpha_exp = 0\n",
    "\n",
    "# Experimentación\n",
    "while alpha_exp <= 100:\n",
    "    alpha_list.append(alpha_exp)\n",
    "    \n",
    "    ridge_model = Ridge(alpha = alpha_exp)\n",
    "    ridge_model.fit(X_train, y_train)\n",
    "    y_pred = ridge_model.predict(X_train)\n",
    "    \n",
    "    mape_val = mean_absolute_percentage_error(y_train, y_pred)*100\n",
    "    rmse_val = np.sqrt(mean_squared_error(y_train, y_pred))\n",
    "    r2_val = r2_score(y_train, y_pred)\n",
    "    \n",
    "    mape.append(mape_val)\n",
    "    rmse.append(rmse_val)\n",
    "    r2.append(r2_val)\n",
    "    \n",
    "    alpha_exp += 0.01"
   ]
  },
  {
   "cell_type": "code",
   "execution_count": 4,
   "id": "4d003e08",
   "metadata": {},
   "outputs": [
    {
     "data": {
      "text/plain": [
       "Text(0, 0.5, 'MAPE (%)')"
      ]
     },
     "execution_count": 4,
     "metadata": {},
     "output_type": "execute_result"
    },
    {
     "data": {
      "image/png": "[encoded data removed]",
      "text/plain": [
       "<Figure size 432x288 with 1 Axes>"
      ]
     },
     "metadata": {
      "needs_background": "light"
     },
     "output_type": "display_data"
    }
   ],
   "source": [
    "# Grafica de el error MAPE obtenido con cada alpha\n",
    "plt.plot(alpha_list, mape)\n",
    "plt.title('MAPE obtenido con distintos valores de alpha')\n",
    "plt.xlabel('alpha')\n",
    "plt.ylabel('MAPE (%)')"
   ]
  },
  {
   "cell_type": "code",
   "execution_count": 5,
   "id": "fdd27789",
   "metadata": {},
   "outputs": [
    {
     "name": "stdout",
     "output_type": "stream",
     "text": [
      "Alpha: 0\n",
      "RMSE: 20640957.473055005\n",
      "R^2: 0.6988630251792038\n",
      "MAPE: 26.582066982746856 %\n"
     ]
    }
   ],
   "source": [
    "# Obtención del mejor alpha y las metricas obtenidas con dicho alpha\n",
    "ind = mape.index(min(mape))\n",
    "mejor_alpha = alpha_list[ind]\n",
    "mejor_mape = mape[ind]\n",
    "mejor_rmse = rmse[ind]\n",
    "mejor_r2 = r2[ind]\n",
    "print('Alpha:',mejor_alpha)\n",
    "print('RMSE:',mejor_rmse)\n",
    "print('R^2:',mejor_r2)\n",
    "print('MAPE:',mejor_mape,'%')"
   ]
  },
  {
   "cell_type": "markdown",
   "id": "dcb2a3a0",
   "metadata": {},
   "source": [
    "Ahora, con el $\\alpha$ hallado anteriormente, pocedemos a hacer la regresión ridge pero con los datos test para verificar como funciona el algoritmo con datos que aun no conoce."
   ]
  },
  {
   "cell_type": "code",
   "execution_count": 6,
   "id": "91d09274",
   "metadata": {},
   "outputs": [],
   "source": [
    "# Con el mejor alpha = 0\n",
    "ridge_model = Ridge(alpha = 0)\n",
    "ridge_model.fit(X_test, y_test)\n",
    "y_pred = ridge_model.predict(X_test)"
   ]
  },
  {
   "cell_type": "code",
   "execution_count": 7,
   "id": "c54fe939",
   "metadata": {},
   "outputs": [
    {
     "name": "stdout",
     "output_type": "stream",
     "text": [
      "RMSE: 20494799.078195807\n",
      "R^2: 0.6947843348644974\n",
      "MAPE: 27.29125527805214 %\n"
     ]
    }
   ],
   "source": [
    "print('RMSE:',np.sqrt(mean_squared_error(y_test, y_pred)))\n",
    "print('R^2:',r2_score(y_test, y_pred))\n",
    "print('MAPE:',mean_absolute_percentage_error(y_test, y_pred)*100,'%')"
   ]
  }
 ],
 "metadata": {
  "kernelspec": {
   "display_name": "Python 3 (ipykernel)",
   "language": "python",
   "name": "python3"
  },
  "language_info": {
   "codemirror_mode": {
    "name": "ipython",
    "version": 3
   },
   "file_extension": ".py",
   "mimetype": "text/x-python",
   "name": "python",
   "nbconvert_exporter": "python",
   "pygments_lexer": "ipython3",
   "version": "3.9.7"
  }
 },
 "nbformat": 4,
 "nbformat_minor": 5
}
