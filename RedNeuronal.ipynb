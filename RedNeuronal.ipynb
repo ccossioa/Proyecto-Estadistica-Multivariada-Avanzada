{
  "cells": [
    {
      "cell_type": "code",
      "execution_count": null,
      "metadata": {
        "colab": {
          "background_save": true
        },
        "id": "btBVl4t-80VI"
      },
      "outputs": [],
      "source": [
        "\"\"\"\n",
        "Código para entrenar Red Neuronal\n",
        "\n",
        "\"\"\"\n",
        "\n",
        "# Primero se importan las librerías y módulos requeridos\n",
        "import matplotlib.pyplot as plt\n",
        "import pandas as pd\n",
        "import numpy as np \n",
        "import sklearn\n",
        "from sklearn.model_selection import train_test_split\n",
        "from sklearn.model_selection import cross_validate\n",
        "from sklearn.neural_network import MLPClassifier\n",
        "from sklearn.neural_network import MLPRegressor\n",
        "from sklearn.metrics import mean_absolute_percentage_error\n",
        "from sklearn.metrics import mean_squared_error\n",
        "from sklearn.metrics import r2_score\n",
        "from math import sqrt\n",
        "\n",
        "#Las siguientes líneas cargan el dataset y lo preprocesan\n",
        "data = pd.read_excel('data.xlsx',index_col = 0)\n",
        "target_column = ['price'] \n",
        "predictors = list(set(list(data.columns))-set(target_column))\n",
        "data[predictors] = data[predictors]/data[predictors].max()\n",
        "data.describe().transpose()\n",
        "X = data[predictors].values\n",
        "y = data[target_column].values\n",
        "X_train, X_test, y_train, y_test = train_test_split(X, y, test_size=0.25)\n",
        "\n",
        "# Definición del  modelo y entrenamiento del mismo:\n",
        "mlp = MLPRegressor(hidden_layer_sizes=(45,40,35,30,25,20,15,10,5),activation='relu', solver='adam',max_iter=1000)\n",
        "mlp.fit(X_train,y_train)\n",
        "predict_train = mlp.predict(X_train)\n",
        "predict_test = mlp.predict(X_test)\n",
        "\n",
        "# Por último, se imprimen las métricas evaluadas en test y se hace KFolds\n",
        "r2 = r2_score(y_test,predict_test)\n",
        "rmse = mean_squared_error(y_test,predict_test, squared=False)\n",
        "mape = mean_absolute_percentage_error(y_test,predict_test)\n",
        "scores = cross_validate(mlp,X,y,cv = 10,scoring='r2')\n",
        "print(\"R^2= \",r2,\" MAPE= \",mape, \" RMSE= \",rmse)\n",
        "\n",
        "fig = plt.figure()\n",
        "ax = fig.add_subplot(111)\n",
        "ax.boxplot(r2scores2,vert=False,patch_artist=True)\n",
        "ax.set_title('Boxplot de la validación cruzada K-Folds')\n",
        "ax.set_xlabel('R^2')\n",
        "ax.set_ylabel('')\n",
        "plt.show()\n",
        "\n",
        "#Para hacer pronósticos utilizar la siguiente función pasándole un dato\n",
        "#def predecir(y):\n",
        "#  return mlp.predict(y)"
      ]
    }
  ],
  "metadata": {
    "colab": {
      "collapsed_sections": [],
      "name": "RedNeuronal.ipynb",
      "provenance": []
    },
    "kernelspec": {
      "display_name": "Python 3",
      "name": "python3"
    },
    "language_info": {
      "name": "python"
    }
  },
  "nbformat": 4,
  "nbformat_minor": 0
}