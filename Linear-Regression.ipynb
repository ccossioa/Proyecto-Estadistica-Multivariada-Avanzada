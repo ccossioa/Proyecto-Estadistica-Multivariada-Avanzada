{
 "cells": [
  {
   "cell_type": "markdown",
   "metadata": {},
   "source": [
    "# IMPLEMENTACIÓN LINEAR REGRESSION"
   ]
  },
  {
   "cell_type": "markdown",
   "metadata": {},
   "source": [
    "En este notebook se encuentra la implementación del algoritmo de regresión lineal con el objetivo de estimar el precio de vehículos usados a partir de ciertas características."
   ]
  },
  {
   "cell_type": "markdown",
   "metadata": {},
   "source": [
    "### Importamos librerias necesarias"
   ]
  },
  {
   "cell_type": "code",
   "execution_count": 10,
   "metadata": {},
   "outputs": [],
   "source": [
    "import pandas as pd\n",
    "import numpy as np\n",
    "import matplotlib.pyplot as plt\n",
    "import seaborn as sns\n",
    "import math \n",
    "from sklearn.linear_model import LinearRegression\n",
    "import matplotlib.pyplot as plt"
   ]
  },
  {
   "cell_type": "markdown",
   "metadata": {},
   "source": [
    "### Leemos los datos y los convertimos a un numpy array para poder utilizar la libreria de Sklearn"
   ]
  },
  {
   "cell_type": "code",
   "execution_count": 2,
   "metadata": {},
   "outputs": [],
   "source": [
    "#Leer datos\n",
    "X_train = pd.read_excel(\"X_train.xlsx\")\n",
    "X_train = X_train.iloc[: , 1:]\n",
    "\n",
    "Y_train=pd.read_excel(\"y_train.xlsx\")\n",
    "Y_train = Y_train.iloc[: , 1:]\n",
    "\n",
    "X_test = pd.read_excel(\"X_test.xlsx\")\n",
    "X_test = X_test.iloc[: , 1:]\n",
    "\n",
    "Y_test = pd.read_excel(\"y_test.xlsx\")\n",
    "Y_test = Y_test.iloc[: , 1:]"
   ]
  },
  {
   "cell_type": "code",
   "execution_count": 3,
   "metadata": {},
   "outputs": [],
   "source": [
    "#convertirnos los datos de train a un arreglo de numpy \n",
    "X_train=X_train.to_numpy().reshape(-1,40)\n",
    "Y_train=Y_train.to_numpy().reshape(1,-1)\n",
    "Y_train=Y_train[0]"
   ]
  },
  {
   "cell_type": "code",
   "execution_count": 4,
   "metadata": {},
   "outputs": [],
   "source": [
    "#convertirnos los datos de test a un arreglo de numpy \n",
    "X_test=X_test.to_numpy().reshape(-1,40)\n",
    "Y_test=Y_test.to_numpy().reshape(1,-1)\n",
    "Y_test=Y_test[0]"
   ]
  },
  {
   "cell_type": "markdown",
   "metadata": {},
   "source": [
    "### A continuación se implementan funciones para calcular el R2, RMSE y el MAPE  "
   ]
  },
  {
   "cell_type": "code",
   "execution_count": 5,
   "metadata": {},
   "outputs": [],
   "source": [
    "#se calcula el r2 dado un conjunto de datos reales y sus respectivas predicciones\n",
    "def calculateR2(real,pred):\n",
    "    mu=np.mean(real)\n",
    "    numerator=np.sum(np.square(np.subtract(real,pred)))\n",
    "    denominator=np.sum(np.square(np.subtract(real,mu)))\n",
    "    R2=1-np.divide(numerator,denominator)\n",
    "    return R2"
   ]
  },
  {
   "cell_type": "code",
   "execution_count": 6,
   "metadata": {},
   "outputs": [],
   "source": [
    "#se calcula el RMSE dado un conjunto de datos reales y sus respectivas predicciones\n",
    "def calculateRMSE(real,pred):\n",
    "    N=pred.size\n",
    "    RMSE=math.sqrt(np.square(np.subtract(real,pred)).mean())\n",
    "    return RMSE"
   ]
  },
  {
   "cell_type": "code",
   "execution_count": 7,
   "metadata": {},
   "outputs": [],
   "source": [
    "#se calcula el MAPE dado un conjunto de datos reales y sus respectivas predicciones\n",
    "def calculateMAPE(real,pred):\n",
    "    N=pred.size\n",
    "    MAPE = np.mean(np.abs((real - pred)/real))*100\n",
    "    return MAPE"
   ]
  },
  {
   "cell_type": "code",
   "execution_count": 8,
   "metadata": {},
   "outputs": [],
   "source": [
    "#se llaman las funciones para calcular todas las metricas tanto en train como en test\n",
    "def SVRGetMetrics(Y_pred_train,Y_pred_test):\n",
    "    #conjunto train\n",
    "    R2train=calculateR2(Y_train,Y_pred_train)\n",
    "    RMSEtrain=calculateRMSE(Y_train,Y_pred_train)\n",
    "    MAPEtrain=calculateMAPE(Y_train,Y_pred_train)\n",
    "    print('El R2 en train es: ',R2train)\n",
    "    print('El RMSE en train es: ',RMSEtrain)\n",
    "    print('El MAPE en train es: ' ,MAPEtrain)\n",
    "    #conjunto test\n",
    "    R2test=calculateR2(Y_test,Y_pred_test)\n",
    "    RMSEtest=calculateRMSE(Y_test,Y_pred_test)\n",
    "    MAPEtest=calculateMAPE(Y_test,Y_pred_test)\n",
    "    print('El R2 en test es: ',R2test)\n",
    "    print('El RMSE en test es: ',RMSEtest)\n",
    "    print('El MAPE en test es: ',MAPEtest)\n",
    "    return [R2train,RMSEtrain,MAPEtrain,R2test,RMSEtest,MAPEtest]"
   ]
  },
  {
   "cell_type": "markdown",
   "metadata": {},
   "source": [
    "### A continuación se entrenará el modelo  utilizando el algoritmo de  regresion lineal  y se hallara el $R^2$, RMSE Y MAPE para el conjunto test y train de cada modelo entrenado"
   ]
  },
  {
   "cell_type": "code",
   "execution_count": 13,
   "metadata": {},
   "outputs": [
    {
     "name": "stdout",
     "output_type": "stream",
     "text": [
      "El R2 en train es:  0.6988630247971235\n",
      "El RMSE en train es:  20640957.48614955\n",
      "El MAPE en train es:  26.582069596599077\n",
      "El R2 en test es:  0.684300481086331\n",
      "El RMSE en test es:  20843815.249694973\n",
      "El MAPE en test es:  27.840538992937415\n"
     ]
    },
    {
     "data": {
      "text/plain": [
       "[0.6988630247971235,\n",
       " 20640957.48614955,\n",
       " 26.582069596599077,\n",
       " 0.684300481086331,\n",
       " 20843815.249694973,\n",
       " 27.840538992937415]"
      ]
     },
     "execution_count": 13,
     "metadata": {},
     "output_type": "execute_result"
    }
   ],
   "source": [
    "#entrenar modelo de regresion lineal y obtener predicciones\n",
    "reg = LinearRegression().fit(X_train, Y_train)\n",
    "Y_pred_train = reg.predict(X_train)\n",
    "Y_pred_test = reg.predict(X_test)\n",
    "SVRGetMetrics(Y_pred_train,Y_pred_test)"
   ]
  },
  {
   "cell_type": "code",
   "execution_count": null,
   "metadata": {},
   "outputs": [],
   "source": []
  }
 ],
 "metadata": {
  "kernelspec": {
   "display_name": "Python 3",
   "language": "python",
   "name": "python3"
  },
  "language_info": {
   "codemirror_mode": {
    "name": "ipython",
    "version": 3
   },
   "file_extension": ".py",
   "mimetype": "text/x-python",
   "name": "python",
   "nbconvert_exporter": "python",
   "pygments_lexer": "ipython3",
   "version": "3.8.8"
  }
 },
 "nbformat": 4,
 "nbformat_minor": 4
}
